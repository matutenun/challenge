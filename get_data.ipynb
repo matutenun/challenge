{
 "cells": [
  {
   "cell_type": "markdown",
   "metadata": {},
   "source": [
    "\n",
    "# create pandas DataFrames to analyze\n",
    "\n",
    "### this is a sample Notebook that shows how to retrieve data from the COVID api and create initial dataframes for analysis\n",
    "\n",
    "#### the Notebook contains \n",
    "\n",
    "**1) data for states -> this is the one we advanced more in the analysis**\n",
    "\n",
    "**2) data for countrys -> work in progress**\n",
    "\n",
    "**3) data for countys  -> work in progress**\n",
    "\n",
    "\n",
    "the imports are used for the different geo values\n",
    "\n",
    "the **Target** is to get a pandas DataFrame for a given state with the following columns\n",
    "\n",
    "*********************************************************************\n",
    "\n",
    "Away from Home 6hr+ (SG),\n",
    "\n",
    "Away from Home 3-6hr (SG),\n",
    "\n",
    "Search Trends (Google),\n",
    "\n",
    "Doctor Visits,\n",
    "\n",
    "Symptoms (FB),\n",
    "\n",
    "Symptoms in Community (FB),\n",
    "\n",
    "Combined,\n",
    "\n",
    "COVID-19 Antigen Tests (Quidel),\n",
    "\n",
    "Hospital Admissions,\n",
    "\n",
    "Cases,\n",
    "\n",
    "Deaths\n",
    "\n",
    "***********************************************************************\n",
    "\n",
    "\n",
    "\n"
   ]
  },
  {
   "cell_type": "code",
   "execution_count": 4,
   "metadata": {},
   "outputs": [],
   "source": [
    "import covidcast\n",
    "import pandas as pd \n",
    "from datetime import date"
   ]
  },
  {
   "cell_type": "markdown",
   "metadata": {},
   "source": [
    "\n",
    "## states\n",
    "\n",
    "in order to search features for a given *geo_value*,\n",
    "\n",
    "the query should have the parameters geo_type=\"state\" and geo_values=\"xx\" where xx are the 2 letters representing the states https://pe.usps.com/text/pub28/28apb.htm\n",
    "\n",
    "the start_date could be for example 5/16 and the end_date 9/13\n",
    "\n",
    "for example Louisiana -> state=\"la\"\n",
    "\n",
    "in the first cell "
   ]
  },
  {
   "cell_type": "code",
   "execution_count": 5,
   "metadata": {},
   "outputs": [],
   "source": [
    "state = \"oh\"\n",
    "start_date=date(2020, 3, 4)\n",
    "end_date=date(2020, 10, 4)\n"
   ]
  },
  {
   "cell_type": "markdown",
   "metadata": {},
   "source": [
    "we will define 11 variables {c_i}, each one will contain the output of each of the 11 signals:\n",
    "\n",
    "1- Away from Home 6hr+ (SG),\n",
    "\n",
    "2- Away from Home 3-6hr (SG),\n",
    "\n",
    "3- Search Trends (Google),\n",
    "\n",
    "4- Doctor Visits,\n",
    "\n",
    "5- Symptoms (FB),\n",
    "\n",
    "6- Symptoms in Community (FB),\n",
    "\n",
    "7- Combined,\n",
    "\n",
    "8- COVID-19 Antigen Tests (Quidel),\n",
    "\n",
    "9- Hospital Admissions,\n",
    "\n",
    "10- Cases,\n",
    "\n",
    "11- Deaths\n",
    "\n",
    "This is an arbitrary preliminar selection."
   ]
  },
  {
   "cell_type": "code",
   "execution_count": null,
   "metadata": {},
   "outputs": [],
   "source": [
    "c1 = covidcast.signal(\"safegraph\",\"full_time_work_prop\", \n",
    "                      start_date, end_date, geo_type=\"state\", \n",
    "                      geo_values=state)\n",
    "c2 = covidcast.signal(\"safegraph\",\"part_time_work_prop\", \n",
    "                      start_date, end_date,geo_type=\"state\", \n",
    "                      geo_values=state)\n",
    "c3 = covidcast.signal(\"ght\",\"smoothed_search\", \n",
    "                      start_date, end_date,geo_type=\"state\", \n",
    "                      geo_values=state)\n",
    "c4 = covidcast.signal(\"doctor-visits\",\"smoothed_adj_cli\", \n",
    "                      start_date, end_date, geo_type=\"state\", \n",
    "                      geo_values=state)\n",
    "c5 = covidcast.signal(\"fb-survey\",\"smoothed_cli\", \n",
    "                      start_date,end_date,geo_type=\"state\", \n",
    "                      geo_values=state)\n",
    "c6 = covidcast.signal(\"fb-survey\",\"smoothed_hh_cmnty_cli\", \n",
    "                      start_date, end_date,geo_type=\"state\", \n",
    "                      geo_values=state)\n",
    "c7 = covidcast.signal(\"indicator-combination\",\"nmf_day_doc_fbc_fbs_ght\", \n",
    "                      start_date, end_date,geo_type=\"state\", \n",
    "                      geo_values=state)\n",
    "c8 = covidcast.signal(\"quidel\",\"covid_ag_smoothed_pct_positive\", \n",
    "                      start_date, end_date,geo_type=\"state\", \n",
    "                      geo_values=state)\n",
    "c9 = covidcast.signal(\"hospital-admissions\",\"smoothed_adj_covid19\", \n",
    "                      start_date, end_date,geo_type=\"state\", \n",
    "                      geo_values=state)\n",
    "c10 = covidcast.signal(\"indicator-combination\",\"confirmed_7dav_incidence_num\", \n",
    "                       start_date, end_date,geo_type=\"state\", \n",
    "                       geo_values=state)\n",
    "c11 = covidcast.signal(\"indicator-combination\",\"deaths_7dav_incidence_num\",\n",
    "                       start_date, end_date, geo_type=\"state\", \n",
    "                       geo_values=state)"
   ]
  },
  {
   "cell_type": "markdown",
   "metadata": {},
   "source": [
    "***********************************************************************\n",
    "Note: if the state is not specified, the data for a given start date up to a given end date is download. This is just an illustrative example.\n",
    "\n",
    "We make another arbitrary choice without considering the change logs and the issues in the survey as a first approach, so that we considered only the columns = ['time_value','value', 'stderr', 'sample_size'] for each output\n",
    "\n",
    "\n",
    "*********************************************************************\n"
   ]
  },
  {
   "cell_type": "code",
   "execution_count": null,
   "metadata": {},
   "outputs": [],
   "source": [
    "cols = ['time_value','value', 'stderr', 'sample_size']\n",
    "df_outer = pd.merge(c1[cols], c2[cols], on='time_value', how='outer')\n",
    "df_outer = pd.merge(df_outer, c3[cols], on='time_value', how='outer')\n",
    "df_outer = pd.merge(df_outer, c4[cols], on='time_value', how='outer')\n",
    "df_outer = pd.merge(df_outer, c5[cols], on='time_value', how='outer')\n",
    "df_outer = pd.merge(df_outer, c6[cols], on='time_value', how='outer')\n",
    "df_outer = pd.merge(df_outer, c7[cols], on='time_value', how='outer')\n",
    "df_outer = pd.merge(df_outer, c8[cols], on='time_value', how='outer')\n",
    "df_outer = pd.merge(df_outer, c9[cols], on='time_value', how='outer')\n",
    "df_outer = pd.merge(df_outer, c10[cols], on='time_value', how='outer')\n",
    "df_outer = pd.merge(df_outer, c11[cols], on='time_value', how='outer')"
   ]
  },
  {
   "cell_type": "markdown",
   "metadata": {},
   "source": [
    "\n",
    "we rename the columns in order to relate them to the variables we will use\n",
    "\n"
   ]
  },
  {
   "cell_type": "code",
   "execution_count": null,
   "metadata": {},
   "outputs": [],
   "source": [
    "columnNames = ['time_value',\n",
    "               'fullwork', 'fullworkstderr','fullworksamplesize',\n",
    "               'partwork', 'partworkstderr', 'partworksamplesize',\n",
    "               'search', 'searchstderr', 'searchsamplesize',\n",
    "               'doctorvisits', 'doctorvisitsstderr', 'pdoctorvisitssamplesize', \n",
    "               'symptoms','symptomsstderr', 'symptomssamplesize', \n",
    "               'symptomscmnty','symptomscmntystderr', 'symptomscmntysamplesize',\n",
    "              'ght', 'ghtstderr', 'ghtamplesize',\n",
    "               'quidel','quidelstderr', 'quidelsamplesize',\n",
    "              'hospital', 'hospitalstderr', 'hospitalsamplesize',\n",
    "               'cases', 'casesstderr', 'casessamplesize',\n",
    "               'deaths','deathsstderr', 'deathssamplesize']"
   ]
  }
 ],
 "metadata": {
  "kernelspec": {
   "display_name": "Python 3",
   "language": "python",
   "name": "python3"
  },
  "language_info": {
   "codemirror_mode": {
    "name": "ipython",
    "version": 3
   },
   "file_extension": ".py",
   "mimetype": "text/x-python",
   "name": "python",
   "nbconvert_exporter": "python",
   "pygments_lexer": "ipython3",
   "version": "3.8.3"
  }
 },
 "nbformat": 4,
 "nbformat_minor": 4
}
